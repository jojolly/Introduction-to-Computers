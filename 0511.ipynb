{
  "nbformat": 4,
  "nbformat_minor": 0,
  "metadata": {
    "colab": {
      "name": "0511.ipynb",
      "provenance": [],
      "authorship_tag": "ABX9TyOlRVng0e3jnrns24DDXXoV",
      "include_colab_link": true
    },
    "kernelspec": {
      "name": "python3",
      "display_name": "Python 3"
    },
    "language_info": {
      "name": "python"
    }
  },
  "cells": [
    {
      "cell_type": "markdown",
      "metadata": {
        "id": "view-in-github",
        "colab_type": "text"
      },
      "source": [
        "<a href=\"https://colab.research.google.com/github/jojolly/Introduction-to-Computers/blob/main/0511.ipynb\" target=\"_parent\"><img src=\"https://colab.research.google.com/assets/colab-badge.svg\" alt=\"Open In Colab\"/></a>"
      ]
    },
    {
      "cell_type": "code",
      "execution_count": 2,
      "metadata": {
        "colab": {
          "base_uri": "https://localhost:8080/"
        },
        "id": "zNv6fqNsrBcO",
        "outputId": "105ec11d-786f-4592-82cb-d7ee19769b83"
      },
      "outputs": [
        {
          "output_type": "stream",
          "name": "stdout",
          "text": [
            "test\n"
          ]
        }
      ],
      "source": [
        "print(\"test\")"
      ]
    },
    {
      "cell_type": "code",
      "source": [
        "temp=float(input(\"請輸入你的體溫\"))\n",
        "if temp >= 37.5:\n",
        "  print(\"體溫過高!\")\n",
        "elif temp >= 37 and temp < 37.4:\n",
        "  print(\"體溫略高! \")\n",
        "elif temp >= 34 and temp < 36.9:\n",
        "  print(\"體溫正常!\")\n",
        "else: \n",
        "  print(\"體溫異常請重新測量!\")\n",
        "  \n",
        " "
      ],
      "metadata": {
        "colab": {
          "base_uri": "https://localhost:8080/"
        },
        "id": "PbPOwlAUrJ4Q",
        "outputId": "d70a063f-efca-45db-cd69-373fe51f8c4f"
      },
      "execution_count": 23,
      "outputs": [
        {
          "output_type": "stream",
          "name": "stdout",
          "text": [
            "請輸入你的體溫37\n",
            "體溫略高! \n"
          ]
        }
      ]
    },
    {
      "cell_type": "code",
      "source": [
        "money = int(input(\"請輸入購物金額:\"))\n",
        "if (money >= 10000):\n",
        "  if(money >= 100000):\n",
        "    print(\"八折\",money * 0.8, end = \"元/n\")\n",
        "  elif(money >= 50000):\n",
        "   print(\"八五折\",money * 0.85, end = \"元\\n\")  \n",
        "  elif(money >= 30000):\n",
        "   print(\"九折\",money * 0.9, end = \"元\\n\")  \n",
        "  else:\n",
        "   print(\"九五折\",money * 0.95, end = \"元\\n\")\n",
        "\n",
        "  \n",
        "  "
      ],
      "metadata": {
        "colab": {
          "base_uri": "https://localhost:8080/"
        },
        "id": "UbaJYCePsBGs",
        "outputId": "2eb9641f-2c72-4050-970e-95fa3be0a51f"
      },
      "execution_count": 63,
      "outputs": [
        {
          "output_type": "stream",
          "name": "stdout",
          "text": [
            "請輸入購物金額:50000\n",
            "八五折 42500.0元\n"
          ]
        }
      ]
    },
    {
      "cell_type": "code",
      "source": [
        ""
      ],
      "metadata": {
        "id": "dZUmIkw7vTey"
      },
      "execution_count": null,
      "outputs": []
    }
  ]
}